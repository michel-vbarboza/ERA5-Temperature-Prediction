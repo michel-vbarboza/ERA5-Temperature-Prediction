{
  "nbformat": 4,
  "nbformat_minor": 0,
  "metadata": {
    "colab": {
      "provenance": [],
      "gpuType": "T4",
      "include_colab_link": true
    },
    "kernelspec": {
      "name": "python3",
      "display_name": "Python 3"
    },
    "language_info": {
      "name": "python"
    },
    "accelerator": "GPU"
  },
  "cells": [
    {
      "cell_type": "markdown",
      "metadata": {
        "id": "view-in-github",
        "colab_type": "text"
      },
      "source": [
        "<a href=\"https://colab.research.google.com/github/michel-vbarboza/ERA5-Temperature-Prediction/blob/main/LSTM_Neural_Network_(GPU).ipynb\" target=\"_parent\"><img src=\"https://colab.research.google.com/assets/colab-badge.svg\" alt=\"Open In Colab\"/></a>"
      ]
    },
    {
      "cell_type": "markdown",
      "source": [
        "# Setup"
      ],
      "metadata": {
        "id": "7GxA1omxXkgv"
      }
    },
    {
      "cell_type": "code",
      "source": [
        "#!pip install optuna -q"
      ],
      "metadata": {
        "id": "bwa5yeV6vDgH"
      },
      "execution_count": null,
      "outputs": []
    },
    {
      "cell_type": "code",
      "source": [
        "import pickle\n",
        "import pandas as pd\n",
        "import numpy as np\n",
        "#import optuna\n",
        "import tensorflow as tf\n",
        "from tensorflow.keras.models import Sequential\n",
        "from tensorflow.keras.layers import Dense, Dropout\n",
        "from tensorflow.keras.optimizers import Adam\n",
        "from sklearn.model_selection import KFold\n",
        "from sklearn.metrics import mean_squared_error"
      ],
      "metadata": {
        "id": "1aaD6K7Rdwfq"
      },
      "execution_count": null,
      "outputs": []
    },
    {
      "cell_type": "code",
      "execution_count": null,
      "metadata": {
        "id": "UXjJw5YOzm3X",
        "colab": {
          "base_uri": "https://localhost:8080/"
        },
        "outputId": "22fa293f-1f56-4301-8ac0-baada546d2d8"
      },
      "outputs": [
        {
          "output_type": "stream",
          "name": "stdout",
          "text": [
            "Drive already mounted at /content/drive; to attempt to forcibly remount, call drive.mount(\"/content/drive\", force_remount=True).\n"
          ]
        }
      ],
      "source": [
        "from google.colab import drive\n",
        "drive.mount('/content/drive')"
      ]
    },
    {
      "cell_type": "code",
      "source": [
        "path = '/content/drive/MyDrive/ERA5-Temperature-Prediction/Dados/'"
      ],
      "metadata": {
        "id": "pxOiDxEtUYZQ"
      },
      "execution_count": null,
      "outputs": []
    },
    {
      "cell_type": "markdown",
      "source": [
        "# Preprocessing"
      ],
      "metadata": {
        "id": "R0cn6vV193FL"
      }
    },
    {
      "cell_type": "code",
      "source": [
        "with open(path+'train.pkl', 'rb') as f:\n",
        "    train = pickle.load(f)\n",
        "\n",
        "with open(path+'test.pkl', 'rb') as f:\n",
        "    test = pickle.load(f)\n",
        "\n",
        "del f"
      ],
      "metadata": {
        "id": "VCRoArv1S9UR"
      },
      "execution_count": null,
      "outputs": []
    },
    {
      "cell_type": "code",
      "source": [
        "targets = ['target_1', 'target_3', 'target_5',\n",
        "           'target_7', 'target_10', 'target_15']\n",
        "\n",
        "features = train.columns.difference(targets)"
      ],
      "metadata": {
        "id": "oLfkfbTbXLmB"
      },
      "execution_count": null,
      "outputs": []
    },
    {
      "cell_type": "code",
      "source": [
        "target = 'target_10'"
      ],
      "metadata": {
        "id": "Ndcxkt7c1BVX"
      },
      "execution_count": null,
      "outputs": []
    },
    {
      "cell_type": "code",
      "source": [
        "X_train = train[features]\n",
        "y_train = train[target]\n",
        "\n",
        "X_test = test[features]\n",
        "y_test = test[target]"
      ],
      "metadata": {
        "id": "2nPiR5z6O1wm"
      },
      "execution_count": null,
      "outputs": []
    },
    {
      "cell_type": "code",
      "source": [
        "X_train = np.array(X_train)\n",
        "y_train = np.array(y_train)\n",
        "\n",
        "X_test = np.array(X_test)\n",
        "y_test = np.array(y_test)"
      ],
      "metadata": {
        "id": "O4x57a6jeK64"
      },
      "execution_count": null,
      "outputs": []
    },
    {
      "cell_type": "code",
      "source": [
        "X_train = X_train.reshape((X_train.shape[0], 1, X_train.shape[1]))\n",
        "X_test = X_test.reshape((X_test.shape[0], 1, X_test.shape[1]))"
      ],
      "metadata": {
        "id": "4dyU5gEKoYgb"
      },
      "execution_count": null,
      "outputs": []
    },
    {
      "cell_type": "markdown",
      "source": [
        "# Model"
      ],
      "metadata": {
        "id": "N3lvdzdiZwx9"
      }
    },
    {
      "cell_type": "code",
      "source": [
        "import numpy as np\n",
        "import tensorflow as tf\n",
        "from tensorflow.keras.models import Sequential\n",
        "from tensorflow.keras.layers import LSTM, Bidirectional, Dropout, Dense, Input, LayerNormalization\n",
        "from tensorflow.keras.optimizers import Adam\n",
        "from sklearn.metrics import mean_squared_error\n",
        "from tensorflow.keras.mixed_precision import set_global_policy\n",
        "\n",
        "# Enable GPU memory growth\n",
        "gpus = tf.config.list_physical_devices('GPU')\n",
        "if gpus:\n",
        "    try:\n",
        "        for gpu in gpus:\n",
        "            tf.config.experimental.set_memory_growth(gpu, True)\n",
        "    except RuntimeError as e:\n",
        "        print(e)\n",
        "\n",
        "# Enable XLA (Accelerated Linear Algebra) compilation\n",
        "tf.config.optimizer.set_jit(True)\n",
        "\n",
        "# Set up mixed precision training\n",
        "set_global_policy('mixed_float16')\n",
        "\n",
        "# Verify GPU usage and mixed precision\n",
        "print(\"TensorFlow version:\", tf.__version__)\n",
        "print(\"Num GPUs Available: \", len(tf.config.list_physical_devices('GPU')))\n",
        "print(\"Mixed precision policy:\", tf.keras.mixed_precision.global_policy())\n",
        "\n",
        "# Define the enhanced LSTM model\n",
        "model = Sequential()\n",
        "\n",
        "# Input layer specifying the input shape (timesteps, num_features)\n",
        "model.add(Input(shape=(X_train.shape[1], X_train.shape[2])))\n",
        "model.add(Bidirectional(LSTM(100, return_sequences=True)))\n",
        "model.add(Dropout(0.3))\n",
        "model.add(LSTM(50, return_sequences=False))\n",
        "model.add(Dropout(0.3))\n",
        "model.add(Dense(1, dtype='float32'))\n",
        "\n",
        "# Compile the model\n",
        "model.compile(optimizer=Adam(learning_rate=0.001), loss='mean_squared_error')\n",
        "\n",
        "# Train the model\n",
        "model.fit(X_train, y_train, epochs=100, batch_size=64, validation_data=(X_test, y_test), verbose=1)\n",
        "\n",
        "# Predict on test data\n",
        "y_pred = model.predict(X_test)\n",
        "\n",
        "# Calculate RMSE\n",
        "rmse = np.sqrt(mean_squared_error(y_test, y_pred))\n",
        "print(f\"Root Mean Squared Error on Test Data: {rmse}\")\n"
      ],
      "metadata": {
        "colab": {
          "base_uri": "https://localhost:8080/"
        },
        "id": "onzgg5tHVmes",
        "outputId": "d2859ab6-9fde-417c-9477-8ddc5e1f8e7f"
      },
      "execution_count": null,
      "outputs": [
        {
          "output_type": "stream",
          "name": "stdout",
          "text": [
            "TensorFlow version: 2.17.0\n",
            "Num GPUs Available:  1\n",
            "Mixed precision policy: <DTypePolicy \"mixed_float16\">\n",
            "Epoch 1/100\n",
            "\u001b[1m13355/13355\u001b[0m \u001b[32m━━━━━━━━━━━━━━━━━━━━\u001b[0m\u001b[37m\u001b[0m \u001b[1m84s\u001b[0m 6ms/step - loss: 37699.3984 - val_loss: 54.7119\n",
            "Epoch 2/100\n",
            "\u001b[1m13355/13355\u001b[0m \u001b[32m━━━━━━━━━━━━━━━━━━━━\u001b[0m\u001b[37m\u001b[0m \u001b[1m76s\u001b[0m 6ms/step - loss: 719.4475 - val_loss: 12.3298\n",
            "Epoch 3/100\n",
            "\u001b[1m13355/13355\u001b[0m \u001b[32m━━━━━━━━━━━━━━━━━━━━\u001b[0m\u001b[37m\u001b[0m \u001b[1m86s\u001b[0m 6ms/step - loss: 664.9692 - val_loss: 11.3396\n",
            "Epoch 4/100\n",
            "\u001b[1m13355/13355\u001b[0m \u001b[32m━━━━━━━━━━━━━━━━━━━━\u001b[0m\u001b[37m\u001b[0m \u001b[1m75s\u001b[0m 6ms/step - loss: 624.9687 - val_loss: 11.1839\n",
            "Epoch 5/100\n",
            "\u001b[1m13355/13355\u001b[0m \u001b[32m━━━━━━━━━━━━━━━━━━━━\u001b[0m\u001b[37m\u001b[0m \u001b[1m81s\u001b[0m 5ms/step - loss: 588.3242 - val_loss: 8.9564\n",
            "Epoch 6/100\n",
            "\u001b[1m13355/13355\u001b[0m \u001b[32m━━━━━━━━━━━━━━━━━━━━\u001b[0m\u001b[37m\u001b[0m \u001b[1m84s\u001b[0m 6ms/step - loss: 555.3530 - val_loss: 11.1210\n",
            "Epoch 7/100\n",
            "\u001b[1m13355/13355\u001b[0m \u001b[32m━━━━━━━━━━━━━━━━━━━━\u001b[0m\u001b[37m\u001b[0m \u001b[1m85s\u001b[0m 6ms/step - loss: 522.1101 - val_loss: 8.1234\n",
            "Epoch 8/100\n",
            "\u001b[1m13355/13355\u001b[0m \u001b[32m━━━━━━━━━━━━━━━━━━━━\u001b[0m\u001b[37m\u001b[0m \u001b[1m73s\u001b[0m 5ms/step - loss: 488.8435 - val_loss: 9.3920\n",
            "Epoch 9/100\n",
            "\u001b[1m13355/13355\u001b[0m \u001b[32m━━━━━━━━━━━━━━━━━━━━\u001b[0m\u001b[37m\u001b[0m \u001b[1m75s\u001b[0m 6ms/step - loss: 458.0981 - val_loss: 7.8677\n",
            "Epoch 10/100\n",
            "\u001b[1m13355/13355\u001b[0m \u001b[32m━━━━━━━━━━━━━━━━━━━━\u001b[0m\u001b[37m\u001b[0m \u001b[1m83s\u001b[0m 6ms/step - loss: 426.9887 - val_loss: 7.8073\n",
            "Epoch 11/100\n",
            "\u001b[1m13355/13355\u001b[0m \u001b[32m━━━━━━━━━━━━━━━━━━━━\u001b[0m\u001b[37m\u001b[0m \u001b[1m84s\u001b[0m 6ms/step - loss: 397.6840 - val_loss: 6.9132\n",
            "Epoch 12/100\n",
            "\u001b[1m13355/13355\u001b[0m \u001b[32m━━━━━━━━━━━━━━━━━━━━\u001b[0m\u001b[37m\u001b[0m \u001b[1m76s\u001b[0m 5ms/step - loss: 371.0603 - val_loss: 6.3469\n",
            "Epoch 13/100\n",
            "\u001b[1m13355/13355\u001b[0m \u001b[32m━━━━━━━━━━━━━━━━━━━━\u001b[0m\u001b[37m\u001b[0m \u001b[1m75s\u001b[0m 6ms/step - loss: 342.8922 - val_loss: 8.5343\n",
            "Epoch 14/100\n",
            "\u001b[1m13355/13355\u001b[0m \u001b[32m━━━━━━━━━━━━━━━━━━━━\u001b[0m\u001b[37m\u001b[0m \u001b[1m85s\u001b[0m 6ms/step - loss: 316.8146 - val_loss: 5.9960\n",
            "Epoch 15/100\n",
            "\u001b[1m13355/13355\u001b[0m \u001b[32m━━━━━━━━━━━━━━━━━━━━\u001b[0m\u001b[37m\u001b[0m \u001b[1m77s\u001b[0m 5ms/step - loss: 291.5787 - val_loss: 7.7818\n",
            "Epoch 16/100\n",
            "\u001b[1m13355/13355\u001b[0m \u001b[32m━━━━━━━━━━━━━━━━━━━━\u001b[0m\u001b[37m\u001b[0m \u001b[1m75s\u001b[0m 6ms/step - loss: 268.4494 - val_loss: 6.7076\n",
            "Epoch 17/100\n",
            "\u001b[1m13355/13355\u001b[0m \u001b[32m━━━━━━━━━━━━━━━━━━━━\u001b[0m\u001b[37m\u001b[0m \u001b[1m83s\u001b[0m 6ms/step - loss: 244.8805 - val_loss: 7.2582\n",
            "Epoch 18/100\n",
            "\u001b[1m13355/13355\u001b[0m \u001b[32m━━━━━━━━━━━━━━━━━━━━\u001b[0m\u001b[37m\u001b[0m \u001b[1m83s\u001b[0m 6ms/step - loss: 224.6177 - val_loss: 6.2119\n",
            "Epoch 19/100\n",
            "\u001b[1m13355/13355\u001b[0m \u001b[32m━━━━━━━━━━━━━━━━━━━━\u001b[0m\u001b[37m\u001b[0m \u001b[1m73s\u001b[0m 5ms/step - loss: 203.3279 - val_loss: 6.9531\n",
            "Epoch 20/100\n",
            "\u001b[1m13355/13355\u001b[0m \u001b[32m━━━━━━━━━━━━━━━━━━━━\u001b[0m\u001b[37m\u001b[0m \u001b[1m86s\u001b[0m 6ms/step - loss: 183.1810 - val_loss: 5.5285\n",
            "Epoch 21/100\n",
            "\u001b[1m13355/13355\u001b[0m \u001b[32m━━━━━━━━━━━━━━━━━━━━\u001b[0m\u001b[37m\u001b[0m \u001b[1m78s\u001b[0m 5ms/step - loss: 165.3835 - val_loss: 5.9402\n",
            "Epoch 22/100\n",
            "\u001b[1m13355/13355\u001b[0m \u001b[32m━━━━━━━━━━━━━━━━━━━━\u001b[0m\u001b[37m\u001b[0m \u001b[1m76s\u001b[0m 6ms/step - loss: 148.1149 - val_loss: 5.4694\n",
            "Epoch 23/100\n",
            "\u001b[1m13355/13355\u001b[0m \u001b[32m━━━━━━━━━━━━━━━━━━━━\u001b[0m\u001b[37m\u001b[0m \u001b[1m74s\u001b[0m 6ms/step - loss: 131.4676 - val_loss: 5.7664\n",
            "Epoch 24/100\n",
            "\u001b[1m13355/13355\u001b[0m \u001b[32m━━━━━━━━━━━━━━━━━━━━\u001b[0m\u001b[37m\u001b[0m \u001b[1m73s\u001b[0m 5ms/step - loss: 115.8927 - val_loss: 5.6862\n",
            "Epoch 25/100\n",
            "\u001b[1m13355/13355\u001b[0m \u001b[32m━━━━━━━━━━━━━━━━━━━━\u001b[0m\u001b[37m\u001b[0m \u001b[1m83s\u001b[0m 6ms/step - loss: 101.6474 - val_loss: 5.0975\n",
            "Epoch 26/100\n",
            "\u001b[1m13355/13355\u001b[0m \u001b[32m━━━━━━━━━━━━━━━━━━━━\u001b[0m\u001b[37m\u001b[0m \u001b[1m73s\u001b[0m 5ms/step - loss: 88.3223 - val_loss: 5.1069\n",
            "Epoch 27/100\n",
            "\u001b[1m13355/13355\u001b[0m \u001b[32m━━━━━━━━━━━━━━━━━━━━\u001b[0m\u001b[37m\u001b[0m \u001b[1m84s\u001b[0m 6ms/step - loss: 75.6196 - val_loss: 5.1671\n",
            "Epoch 28/100\n",
            "\u001b[1m13355/13355\u001b[0m \u001b[32m━━━━━━━━━━━━━━━━━━━━\u001b[0m\u001b[37m\u001b[0m \u001b[1m73s\u001b[0m 5ms/step - loss: 64.5166 - val_loss: 5.1614\n",
            "Epoch 29/100\n",
            "\u001b[1m13355/13355\u001b[0m \u001b[32m━━━━━━━━━━━━━━━━━━━━\u001b[0m\u001b[37m\u001b[0m \u001b[1m81s\u001b[0m 5ms/step - loss: 54.0282 - val_loss: 4.9731\n",
            "Epoch 30/100\n",
            "\u001b[1m13355/13355\u001b[0m \u001b[32m━━━━━━━━━━━━━━━━━━━━\u001b[0m\u001b[37m\u001b[0m \u001b[1m84s\u001b[0m 6ms/step - loss: 44.6020 - val_loss: 5.1223\n",
            "Epoch 31/100\n",
            "\u001b[1m13355/13355\u001b[0m \u001b[32m━━━━━━━━━━━━━━━━━━━━\u001b[0m\u001b[37m\u001b[0m \u001b[1m83s\u001b[0m 6ms/step - loss: 36.0473 - val_loss: 4.9830\n",
            "Epoch 32/100\n",
            "\u001b[1m13355/13355\u001b[0m \u001b[32m━━━━━━━━━━━━━━━━━━━━\u001b[0m\u001b[37m\u001b[0m \u001b[1m83s\u001b[0m 6ms/step - loss: 28.7687 - val_loss: 4.9667\n",
            "Epoch 33/100\n",
            "\u001b[1m13355/13355\u001b[0m \u001b[32m━━━━━━━━━━━━━━━━━━━━\u001b[0m\u001b[37m\u001b[0m \u001b[1m78s\u001b[0m 5ms/step - loss: 22.4201 - val_loss: 4.9518\n",
            "Epoch 34/100\n",
            "\u001b[1m13355/13355\u001b[0m \u001b[32m━━━━━━━━━━━━━━━━━━━━\u001b[0m\u001b[37m\u001b[0m \u001b[1m75s\u001b[0m 6ms/step - loss: 17.1148 - val_loss: 4.9449\n",
            "Epoch 35/100\n",
            "\u001b[1m13355/13355\u001b[0m \u001b[32m━━━━━━━━━━━━━━━━━━━━\u001b[0m\u001b[37m\u001b[0m \u001b[1m74s\u001b[0m 6ms/step - loss: 12.7335 - val_loss: 4.8593\n",
            "Epoch 36/100\n",
            "\u001b[1m13355/13355\u001b[0m \u001b[32m━━━━━━━━━━━━━━━━━━━━\u001b[0m\u001b[37m\u001b[0m \u001b[1m81s\u001b[0m 5ms/step - loss: 9.3545 - val_loss: 5.0217\n",
            "Epoch 37/100\n",
            "\u001b[1m13355/13355\u001b[0m \u001b[32m━━━━━━━━━━━━━━━━━━━━\u001b[0m\u001b[37m\u001b[0m \u001b[1m75s\u001b[0m 6ms/step - loss: 6.8319 - val_loss: 4.9739\n",
            "Epoch 38/100\n",
            "\u001b[1m13355/13355\u001b[0m \u001b[32m━━━━━━━━━━━━━━━━━━━━\u001b[0m\u001b[37m\u001b[0m \u001b[1m80s\u001b[0m 6ms/step - loss: 5.0974 - val_loss: 5.0294\n",
            "Epoch 39/100\n",
            "\u001b[1m13355/13355\u001b[0m \u001b[32m━━━━━━━━━━━━━━━━━━━━\u001b[0m\u001b[37m\u001b[0m \u001b[1m83s\u001b[0m 6ms/step - loss: 4.1196 - val_loss: 4.9702\n",
            "Epoch 40/100\n",
            "\u001b[1m13355/13355\u001b[0m \u001b[32m━━━━━━━━━━━━━━━━━━━━\u001b[0m\u001b[37m\u001b[0m \u001b[1m81s\u001b[0m 6ms/step - loss: 3.6384 - val_loss: 4.8984\n",
            "Epoch 41/100\n",
            "\u001b[1m13355/13355\u001b[0m \u001b[32m━━━━━━━━━━━━━━━━━━━━\u001b[0m\u001b[37m\u001b[0m \u001b[1m84s\u001b[0m 6ms/step - loss: 3.3912 - val_loss: 5.1656\n",
            "Epoch 42/100\n",
            "\u001b[1m13355/13355\u001b[0m \u001b[32m━━━━━━━━━━━━━━━━━━━━\u001b[0m\u001b[37m\u001b[0m \u001b[1m73s\u001b[0m 5ms/step - loss: 3.2579 - val_loss: 5.0900\n",
            "Epoch 43/100\n",
            "\u001b[1m13355/13355\u001b[0m \u001b[32m━━━━━━━━━━━━━━━━━━━━\u001b[0m\u001b[37m\u001b[0m \u001b[1m81s\u001b[0m 5ms/step - loss: 3.1736 - val_loss: 4.8914\n",
            "Epoch 44/100\n",
            "\u001b[1m13355/13355\u001b[0m \u001b[32m━━━━━━━━━━━━━━━━━━━━\u001b[0m\u001b[37m\u001b[0m \u001b[1m82s\u001b[0m 5ms/step - loss: 3.0964 - val_loss: 4.9426\n",
            "Epoch 45/100\n",
            "\u001b[1m13355/13355\u001b[0m \u001b[32m━━━━━━━━━━━━━━━━━━━━\u001b[0m\u001b[37m\u001b[0m \u001b[1m74s\u001b[0m 6ms/step - loss: 3.0416 - val_loss: 4.9292\n",
            "Epoch 46/100\n",
            "\u001b[1m13355/13355\u001b[0m \u001b[32m━━━━━━━━━━━━━━━━━━━━\u001b[0m\u001b[37m\u001b[0m \u001b[1m84s\u001b[0m 6ms/step - loss: 2.9986 - val_loss: 4.9532\n",
            "Epoch 47/100\n",
            "\u001b[1m13355/13355\u001b[0m \u001b[32m━━━━━━━━━━━━━━━━━━━━\u001b[0m\u001b[37m\u001b[0m \u001b[1m82s\u001b[0m 6ms/step - loss: 2.9556 - val_loss: 4.9010\n",
            "Epoch 48/100\n",
            "\u001b[1m13355/13355\u001b[0m \u001b[32m━━━━━━━━━━━━━━━━━━━━\u001b[0m\u001b[37m\u001b[0m \u001b[1m80s\u001b[0m 6ms/step - loss: 2.9085 - val_loss: 4.8605\n",
            "Epoch 49/100\n",
            "\u001b[1m13355/13355\u001b[0m \u001b[32m━━━━━━━━━━━━━━━━━━━━\u001b[0m\u001b[37m\u001b[0m \u001b[1m84s\u001b[0m 6ms/step - loss: 2.8848 - val_loss: 4.8637\n",
            "Epoch 50/100\n",
            "\u001b[1m13355/13355\u001b[0m \u001b[32m━━━━━━━━━━━━━━━━━━━━\u001b[0m\u001b[37m\u001b[0m \u001b[1m73s\u001b[0m 5ms/step - loss: 2.8612 - val_loss: 4.7880\n",
            "Epoch 51/100\n",
            "\u001b[1m13355/13355\u001b[0m \u001b[32m━━━━━━━━━━━━━━━━━━━━\u001b[0m\u001b[37m\u001b[0m \u001b[1m83s\u001b[0m 6ms/step - loss: 2.8431 - val_loss: 4.8638\n",
            "Epoch 52/100\n",
            "\u001b[1m13355/13355\u001b[0m \u001b[32m━━━━━━━━━━━━━━━━━━━━\u001b[0m\u001b[37m\u001b[0m \u001b[1m82s\u001b[0m 6ms/step - loss: 2.8130 - val_loss: 4.7992\n",
            "Epoch 53/100\n",
            "\u001b[1m13355/13355\u001b[0m \u001b[32m━━━━━━━━━━━━━━━━━━━━\u001b[0m\u001b[37m\u001b[0m \u001b[1m84s\u001b[0m 6ms/step - loss: 2.7993 - val_loss: 4.8714\n",
            "Epoch 54/100\n",
            "\u001b[1m13355/13355\u001b[0m \u001b[32m━━━━━━━━━━━━━━━━━━━━\u001b[0m\u001b[37m\u001b[0m \u001b[1m79s\u001b[0m 5ms/step - loss: 2.7696 - val_loss: 4.7734\n",
            "Epoch 55/100\n",
            "\u001b[1m13355/13355\u001b[0m \u001b[32m━━━━━━━━━━━━━━━━━━━━\u001b[0m\u001b[37m\u001b[0m \u001b[1m75s\u001b[0m 6ms/step - loss: 2.7504 - val_loss: 4.7874\n",
            "Epoch 56/100\n",
            "\u001b[1m13355/13355\u001b[0m \u001b[32m━━━━━━━━━━━━━━━━━━━━\u001b[0m\u001b[37m\u001b[0m \u001b[1m84s\u001b[0m 6ms/step - loss: 2.7371 - val_loss: 4.7907\n",
            "Epoch 57/100\n",
            "\u001b[1m13355/13355\u001b[0m \u001b[32m━━━━━━━━━━━━━━━━━━━━\u001b[0m\u001b[37m\u001b[0m \u001b[1m81s\u001b[0m 6ms/step - loss: 2.7080 - val_loss: 4.7641\n",
            "Epoch 58/100\n",
            "\u001b[1m13355/13355\u001b[0m \u001b[32m━━━━━━━━━━━━━━━━━━━━\u001b[0m\u001b[37m\u001b[0m \u001b[1m82s\u001b[0m 6ms/step - loss: 2.7018 - val_loss: 4.8347\n",
            "Epoch 59/100\n",
            "\u001b[1m13355/13355\u001b[0m \u001b[32m━━━━━━━━━━━━━━━━━━━━\u001b[0m\u001b[37m\u001b[0m \u001b[1m82s\u001b[0m 6ms/step - loss: 2.6833 - val_loss: 4.7094\n",
            "Epoch 60/100\n",
            "\u001b[1m13355/13355\u001b[0m \u001b[32m━━━━━━━━━━━━━━━━━━━━\u001b[0m\u001b[37m\u001b[0m \u001b[1m84s\u001b[0m 6ms/step - loss: 2.6762 - val_loss: 4.7461\n",
            "Epoch 61/100\n",
            "\u001b[1m13355/13355\u001b[0m \u001b[32m━━━━━━━━━━━━━━━━━━━━\u001b[0m\u001b[37m\u001b[0m \u001b[1m83s\u001b[0m 6ms/step - loss: 2.6604 - val_loss: 4.7041\n",
            "Epoch 62/100\n",
            "\u001b[1m13355/13355\u001b[0m \u001b[32m━━━━━━━━━━━━━━━━━━━━\u001b[0m\u001b[37m\u001b[0m \u001b[1m80s\u001b[0m 6ms/step - loss: 2.6470 - val_loss: 4.7242\n",
            "Epoch 63/100\n",
            "\u001b[1m13355/13355\u001b[0m \u001b[32m━━━━━━━━━━━━━━━━━━━━\u001b[0m\u001b[37m\u001b[0m \u001b[1m75s\u001b[0m 6ms/step - loss: 2.6361 - val_loss: 4.7336\n",
            "Epoch 64/100\n",
            "\u001b[1m13355/13355\u001b[0m \u001b[32m━━━━━━━━━━━━━━━━━━━━\u001b[0m\u001b[37m\u001b[0m \u001b[1m81s\u001b[0m 6ms/step - loss: 2.6072 - val_loss: 4.7448\n",
            "Epoch 65/100\n",
            "\u001b[1m13355/13355\u001b[0m \u001b[32m━━━━━━━━━━━━━━━━━━━━\u001b[0m\u001b[37m\u001b[0m \u001b[1m82s\u001b[0m 6ms/step - loss: 2.6086 - val_loss: 4.6820\n",
            "Epoch 66/100\n",
            "\u001b[1m13355/13355\u001b[0m \u001b[32m━━━━━━━━━━━━━━━━━━━━\u001b[0m\u001b[37m\u001b[0m \u001b[1m82s\u001b[0m 6ms/step - loss: 2.6035 - val_loss: 4.7354\n",
            "Epoch 67/100\n",
            "\u001b[1m13355/13355\u001b[0m \u001b[32m━━━━━━━━━━━━━━━━━━━━\u001b[0m\u001b[37m\u001b[0m \u001b[1m77s\u001b[0m 6ms/step - loss: 2.5895 - val_loss: 4.7032\n",
            "Epoch 68/100\n",
            "\u001b[1m13355/13355\u001b[0m \u001b[32m━━━━━━━━━━━━━━━━━━━━\u001b[0m\u001b[37m\u001b[0m \u001b[1m75s\u001b[0m 6ms/step - loss: 2.5887 - val_loss: 4.6206\n",
            "Epoch 69/100\n",
            "\u001b[1m13355/13355\u001b[0m \u001b[32m━━━━━━━━━━━━━━━━━━━━\u001b[0m\u001b[37m\u001b[0m \u001b[1m87s\u001b[0m 6ms/step - loss: 2.5735 - val_loss: 4.7230\n",
            "Epoch 70/100\n",
            "\u001b[1m13355/13355\u001b[0m \u001b[32m━━━━━━━━━━━━━━━━━━━━\u001b[0m\u001b[37m\u001b[0m \u001b[1m74s\u001b[0m 6ms/step - loss: 2.5610 - val_loss: 4.7100\n",
            "Epoch 71/100\n",
            "\u001b[1m13355/13355\u001b[0m \u001b[32m━━━━━━━━━━━━━━━━━━━━\u001b[0m\u001b[37m\u001b[0m \u001b[1m82s\u001b[0m 6ms/step - loss: 2.5493 - val_loss: 4.6340\n",
            "Epoch 72/100\n",
            "\u001b[1m13355/13355\u001b[0m \u001b[32m━━━━━━━━━━━━━━━━━━━━\u001b[0m\u001b[37m\u001b[0m \u001b[1m84s\u001b[0m 6ms/step - loss: 2.5389 - val_loss: 4.6890\n",
            "Epoch 73/100\n",
            "\u001b[1m13355/13355\u001b[0m \u001b[32m━━━━━━━━━━━━━━━━━━━━\u001b[0m\u001b[37m\u001b[0m \u001b[1m84s\u001b[0m 6ms/step - loss: 2.5431 - val_loss: 4.6328\n",
            "Epoch 74/100\n",
            "\u001b[1m13355/13355\u001b[0m \u001b[32m━━━━━━━━━━━━━━━━━━━━\u001b[0m\u001b[37m\u001b[0m \u001b[1m76s\u001b[0m 6ms/step - loss: 2.5307 - val_loss: 4.6625\n",
            "Epoch 75/100\n",
            "\u001b[1m13355/13355\u001b[0m \u001b[32m━━━━━━━━━━━━━━━━━━━━\u001b[0m\u001b[37m\u001b[0m \u001b[1m83s\u001b[0m 6ms/step - loss: 2.5347 - val_loss: 4.6645\n",
            "Epoch 76/100\n",
            "\u001b[1m13355/13355\u001b[0m \u001b[32m━━━━━━━━━━━━━━━━━━━━\u001b[0m\u001b[37m\u001b[0m \u001b[1m85s\u001b[0m 6ms/step - loss: 2.5187 - val_loss: 4.6410\n",
            "Epoch 77/100\n",
            "\u001b[1m13355/13355\u001b[0m \u001b[32m━━━━━━━━━━━━━━━━━━━━\u001b[0m\u001b[37m\u001b[0m \u001b[1m81s\u001b[0m 6ms/step - loss: 2.5176 - val_loss: 4.6469\n",
            "Epoch 78/100\n",
            "\u001b[1m13355/13355\u001b[0m \u001b[32m━━━━━━━━━━━━━━━━━━━━\u001b[0m\u001b[37m\u001b[0m \u001b[1m74s\u001b[0m 6ms/step - loss: 2.5115 - val_loss: 4.6317\n",
            "Epoch 79/100\n",
            "\u001b[1m13355/13355\u001b[0m \u001b[32m━━━━━━━━━━━━━━━━━━━━\u001b[0m\u001b[37m\u001b[0m \u001b[1m74s\u001b[0m 6ms/step - loss: 2.5107 - val_loss: 4.6565\n",
            "Epoch 80/100\n",
            "\u001b[1m13355/13355\u001b[0m \u001b[32m━━━━━━━━━━━━━━━━━━━━\u001b[0m\u001b[37m\u001b[0m \u001b[1m81s\u001b[0m 5ms/step - loss: 2.5040 - val_loss: 4.6659\n",
            "Epoch 81/100\n",
            "\u001b[1m13355/13355\u001b[0m \u001b[32m━━━━━━━━━━━━━━━━━━━━\u001b[0m\u001b[37m\u001b[0m \u001b[1m76s\u001b[0m 6ms/step - loss: 2.5010 - val_loss: 4.6455\n",
            "Epoch 82/100\n",
            "\u001b[1m13355/13355\u001b[0m \u001b[32m━━━━━━━━━━━━━━━━━━━━\u001b[0m\u001b[37m\u001b[0m \u001b[1m73s\u001b[0m 5ms/step - loss: 2.4889 - val_loss: 4.6344\n",
            "Epoch 83/100\n",
            "\u001b[1m13355/13355\u001b[0m \u001b[32m━━━━━━━━━━━━━━━━━━━━\u001b[0m\u001b[37m\u001b[0m \u001b[1m74s\u001b[0m 6ms/step - loss: 2.4926 - val_loss: 4.6826\n",
            "Epoch 84/100\n",
            "\u001b[1m13355/13355\u001b[0m \u001b[32m━━━━━━━━━━━━━━━━━━━━\u001b[0m\u001b[37m\u001b[0m \u001b[1m84s\u001b[0m 6ms/step - loss: 2.4785 - val_loss: 4.6584\n",
            "Epoch 85/100\n",
            "\u001b[1m13355/13355\u001b[0m \u001b[32m━━━━━━━━━━━━━━━━━━━━\u001b[0m\u001b[37m\u001b[0m \u001b[1m74s\u001b[0m 6ms/step - loss: 2.4793 - val_loss: 4.6690\n",
            "Epoch 86/100\n",
            "\u001b[1m13355/13355\u001b[0m \u001b[32m━━━━━━━━━━━━━━━━━━━━\u001b[0m\u001b[37m\u001b[0m \u001b[1m78s\u001b[0m 6ms/step - loss: 2.4716 - val_loss: 4.6441\n",
            "Epoch 87/100\n",
            "\u001b[1m13355/13355\u001b[0m \u001b[32m━━━━━━━━━━━━━━━━━━━━\u001b[0m\u001b[37m\u001b[0m \u001b[1m77s\u001b[0m 5ms/step - loss: 2.4600 - val_loss: 4.6713\n",
            "Epoch 88/100\n",
            "\u001b[1m13355/13355\u001b[0m \u001b[32m━━━━━━━━━━━━━━━━━━━━\u001b[0m\u001b[37m\u001b[0m \u001b[1m73s\u001b[0m 5ms/step - loss: 2.4601 - val_loss: 4.7052\n",
            "Epoch 89/100\n",
            "\u001b[1m13355/13355\u001b[0m \u001b[32m━━━━━━━━━━━━━━━━━━━━\u001b[0m\u001b[37m\u001b[0m \u001b[1m75s\u001b[0m 6ms/step - loss: 2.4571 - val_loss: 4.6155\n",
            "Epoch 90/100\n",
            "\u001b[1m13355/13355\u001b[0m \u001b[32m━━━━━━━━━━━━━━━━━━━━\u001b[0m\u001b[37m\u001b[0m \u001b[1m76s\u001b[0m 6ms/step - loss: 2.4519 - val_loss: 4.7331\n",
            "Epoch 91/100\n",
            "\u001b[1m13355/13355\u001b[0m \u001b[32m━━━━━━━━━━━━━━━━━━━━\u001b[0m\u001b[37m\u001b[0m \u001b[1m81s\u001b[0m 6ms/step - loss: 2.4544 - val_loss: 4.6618\n",
            "Epoch 92/100\n",
            "\u001b[1m13355/13355\u001b[0m \u001b[32m━━━━━━━━━━━━━━━━━━━━\u001b[0m\u001b[37m\u001b[0m \u001b[1m73s\u001b[0m 5ms/step - loss: 2.4488 - val_loss: 4.6447\n",
            "Epoch 93/100\n",
            "\u001b[1m13355/13355\u001b[0m \u001b[32m━━━━━━━━━━━━━━━━━━━━\u001b[0m\u001b[37m\u001b[0m \u001b[1m74s\u001b[0m 6ms/step - loss: 2.4393 - val_loss: 4.6457\n",
            "Epoch 94/100\n",
            "\u001b[1m13355/13355\u001b[0m \u001b[32m━━━━━━━━━━━━━━━━━━━━\u001b[0m\u001b[37m\u001b[0m \u001b[1m83s\u001b[0m 6ms/step - loss: 2.4389 - val_loss: 4.6610\n",
            "Epoch 95/100\n",
            "\u001b[1m13355/13355\u001b[0m \u001b[32m━━━━━━━━━━━━━━━━━━━━\u001b[0m\u001b[37m\u001b[0m \u001b[1m84s\u001b[0m 6ms/step - loss: 2.4345 - val_loss: 4.6458\n",
            "Epoch 96/100\n",
            "\u001b[1m13355/13355\u001b[0m \u001b[32m━━━━━━━━━━━━━━━━━━━━\u001b[0m\u001b[37m\u001b[0m \u001b[1m74s\u001b[0m 6ms/step - loss: 2.4268 - val_loss: 4.6123\n",
            "Epoch 97/100\n",
            "\u001b[1m13355/13355\u001b[0m \u001b[32m━━━━━━━━━━━━━━━━━━━━\u001b[0m\u001b[37m\u001b[0m \u001b[1m73s\u001b[0m 5ms/step - loss: 2.4353 - val_loss: 4.6122\n",
            "Epoch 98/100\n",
            "\u001b[1m13355/13355\u001b[0m \u001b[32m━━━━━━━━━━━━━━━━━━━━\u001b[0m\u001b[37m\u001b[0m \u001b[1m74s\u001b[0m 6ms/step - loss: 2.4235 - val_loss: 4.6623\n",
            "Epoch 99/100\n",
            "\u001b[1m13355/13355\u001b[0m \u001b[32m━━━━━━━━━━━━━━━━━━━━\u001b[0m\u001b[37m\u001b[0m \u001b[1m78s\u001b[0m 6ms/step - loss: 2.4145 - val_loss: 4.6880\n",
            "Epoch 100/100\n",
            "\u001b[1m13355/13355\u001b[0m \u001b[32m━━━━━━━━━━━━━━━━━━━━\u001b[0m\u001b[37m\u001b[0m \u001b[1m77s\u001b[0m 5ms/step - loss: 2.4092 - val_loss: 4.6624\n",
            "\u001b[1m6570/6570\u001b[0m \u001b[32m━━━━━━━━━━━━━━━━━━━━\u001b[0m\u001b[37m\u001b[0m \u001b[1m14s\u001b[0m 2ms/step\n",
            "Root Mean Squared Error on Test Data: 2.159256120714098\n"
          ]
        }
      ]
    },
    {
      "cell_type": "code",
      "source": [
        "# Save lists using pickle\n",
        "with open(path+'pred_lstm_'+target+'.pkl', 'wb') as f:\n",
        "    pickle.dump(y_pred, f)\n",
        "\n",
        "with open(path+'rmse_lstm_'+target+'.pkl', 'wb') as f:\n",
        "    pickle.dump(rmse, f)\n"
      ],
      "metadata": {
        "id": "fwa-VBidXZJM"
      },
      "execution_count": null,
      "outputs": []
    }
  ]
}