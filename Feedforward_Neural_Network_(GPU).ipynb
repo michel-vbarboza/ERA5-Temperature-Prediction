{
  "nbformat": 4,
  "nbformat_minor": 0,
  "metadata": {
    "colab": {
      "provenance": [],
      "gpuType": "T4",
      "include_colab_link": true
    },
    "kernelspec": {
      "name": "python3",
      "display_name": "Python 3"
    },
    "language_info": {
      "name": "python"
    },
    "accelerator": "GPU"
  },
  "cells": [
    {
      "cell_type": "markdown",
      "metadata": {
        "id": "view-in-github",
        "colab_type": "text"
      },
      "source": [
        "<a href=\"https://colab.research.google.com/github/michel-vbarboza/ERA5-Temperature-Prediction/blob/main/Feedforward_Neural_Network_(GPU).ipynb\" target=\"_parent\"><img src=\"https://colab.research.google.com/assets/colab-badge.svg\" alt=\"Open In Colab\"/></a>"
      ]
    },
    {
      "cell_type": "markdown",
      "source": [
        "# Setup"
      ],
      "metadata": {
        "id": "7GxA1omxXkgv"
      }
    },
    {
      "cell_type": "code",
      "source": [
        "#!pip install optuna -q"
      ],
      "metadata": {
        "id": "bwa5yeV6vDgH",
        "colab": {
          "base_uri": "https://localhost:8080/"
        },
        "outputId": "157b0b84-f5f1-4ecb-8122-bd7305e59159"
      },
      "execution_count": null,
      "outputs": [
        {
          "output_type": "stream",
          "name": "stdout",
          "text": [
            "\u001b[?25l   \u001b[90m━━━━━━━━━━━━━━━━━━━━━━━━━━━━━━━━━━━━━━━━\u001b[0m \u001b[32m0.0/380.1 kB\u001b[0m \u001b[31m?\u001b[0m eta \u001b[36m-:--:--\u001b[0m\r\u001b[2K   \u001b[90m━━━━━━━━━━━━━━━━━━━━━━━━━━━━━━━━━━━━━━━━\u001b[0m \u001b[32m380.1/380.1 kB\u001b[0m \u001b[31m21.5 MB/s\u001b[0m eta \u001b[36m0:00:00\u001b[0m\n",
            "\u001b[?25h\u001b[?25l   \u001b[90m━━━━━━━━━━━━━━━━━━━━━━━━━━━━━━━━━━━━━━━━\u001b[0m \u001b[32m0.0/233.0 kB\u001b[0m \u001b[31m?\u001b[0m eta \u001b[36m-:--:--\u001b[0m\r\u001b[2K   \u001b[90m━━━━━━━━━━━━━━━━━━━━━━━━━━━━━━━━━━━━━━━━\u001b[0m \u001b[32m233.0/233.0 kB\u001b[0m \u001b[31m20.2 MB/s\u001b[0m eta \u001b[36m0:00:00\u001b[0m\n",
            "\u001b[?25h\u001b[?25l   \u001b[90m━━━━━━━━━━━━━━━━━━━━━━━━━━━━━━━━━━━━━━━━\u001b[0m \u001b[32m0.0/78.6 kB\u001b[0m \u001b[31m?\u001b[0m eta \u001b[36m-:--:--\u001b[0m\r\u001b[2K   \u001b[90m━━━━━━━━━━━━━━━━━━━━━━━━━━━━━━━━━━━━━━━━\u001b[0m \u001b[32m78.6/78.6 kB\u001b[0m \u001b[31m6.1 MB/s\u001b[0m eta \u001b[36m0:00:00\u001b[0m\n",
            "\u001b[?25h"
          ]
        }
      ]
    },
    {
      "cell_type": "code",
      "source": [
        "import pickle\n",
        "import pandas as pd\n",
        "import numpy as np\n",
        "#import optuna\n",
        "import tensorflow as tf\n",
        "from tensorflow.keras.models import Sequential\n",
        "from tensorflow.keras.layers import Dense, Input\n",
        "from tensorflow.keras.optimizers import Adam\n",
        "from sklearn.metrics import mean_squared_error\n",
        "from tensorflow.keras.mixed_precision import set_global_policy"
      ],
      "metadata": {
        "id": "1aaD6K7Rdwfq"
      },
      "execution_count": null,
      "outputs": []
    },
    {
      "cell_type": "code",
      "execution_count": null,
      "metadata": {
        "id": "UXjJw5YOzm3X",
        "colab": {
          "base_uri": "https://localhost:8080/"
        },
        "outputId": "ed95d963-cdbc-439d-9eae-5a464672fd16"
      },
      "outputs": [
        {
          "output_type": "stream",
          "name": "stdout",
          "text": [
            "Mounted at /content/drive\n"
          ]
        }
      ],
      "source": [
        "from google.colab import drive\n",
        "drive.mount('/content/drive')"
      ]
    },
    {
      "cell_type": "code",
      "source": [
        "path = '/content/drive/MyDrive/ERA5-Temperature-Prediction/Dados/'"
      ],
      "metadata": {
        "id": "pxOiDxEtUYZQ"
      },
      "execution_count": null,
      "outputs": []
    },
    {
      "cell_type": "markdown",
      "source": [
        "# Preprocessing"
      ],
      "metadata": {
        "id": "R0cn6vV193FL"
      }
    },
    {
      "cell_type": "code",
      "source": [
        "with open(path+'train.pkl', 'rb') as f:\n",
        "    train = pickle.load(f)\n",
        "\n",
        "with open(path+'test.pkl', 'rb') as f:\n",
        "    test = pickle.load(f)\n",
        "\n",
        "del f"
      ],
      "metadata": {
        "id": "VCRoArv1S9UR"
      },
      "execution_count": null,
      "outputs": []
    },
    {
      "cell_type": "code",
      "source": [
        "targets = ['target_1', 'target_3', 'target_5',\n",
        "           'target_7', 'target_10', 'target_15']\n",
        "\n",
        "features = train.columns.difference(targets)"
      ],
      "metadata": {
        "id": "oLfkfbTbXLmB"
      },
      "execution_count": null,
      "outputs": []
    },
    {
      "cell_type": "code",
      "source": [
        "target = 'target_10'"
      ],
      "metadata": {
        "id": "Ndcxkt7c1BVX"
      },
      "execution_count": null,
      "outputs": []
    },
    {
      "cell_type": "code",
      "source": [
        "X_train = train[features]\n",
        "y_train = train[target]\n",
        "\n",
        "X_test = test[features]\n",
        "y_test = test[target]"
      ],
      "metadata": {
        "id": "2nPiR5z6O1wm"
      },
      "execution_count": null,
      "outputs": []
    },
    {
      "cell_type": "code",
      "source": [
        "X_train = np.array(X_train)\n",
        "y_train = np.array(y_train)\n",
        "X_test = np.array(X_test)\n",
        "y_test = np.array(y_test)"
      ],
      "metadata": {
        "id": "O4x57a6jeK64"
      },
      "execution_count": null,
      "outputs": []
    },
    {
      "cell_type": "markdown",
      "source": [
        "# Feedforward Neural Network (FNN)"
      ],
      "metadata": {
        "id": "N3lvdzdiZwx9"
      }
    },
    {
      "cell_type": "code",
      "source": [
        "# Enable GPU memory growth\n",
        "gpus = tf.config.list_physical_devices('GPU')\n",
        "if gpus:\n",
        "    try:\n",
        "        for gpu in gpus:\n",
        "            tf.config.experimental.set_memory_growth(gpu, True)\n",
        "    except RuntimeError as e:\n",
        "        print(e)\n",
        "\n",
        "# Enable XLA (Accelerated Linear Algebra) compilation\n",
        "tf.config.optimizer.set_jit(True)\n",
        "\n",
        "# Set up mixed precision training\n",
        "set_global_policy('mixed_float16')\n",
        "\n",
        "# Verify GPU usage and mixed precision\n",
        "print(\"TensorFlow version:\", tf.__version__)\n",
        "print(\"Num GPUs Available: \", len(tf.config.list_physical_devices('GPU')))\n",
        "print(\"Mixed precision policy:\", tf.keras.mixed_precision.global_policy())\n",
        "\n",
        "# Define the neural network model\n",
        "model = Sequential()\n",
        "model.add(Input(shape=(X_train.shape[1],)))\n",
        "model.add(Dense(64, activation='relu'))\n",
        "model.add(Dense(32, activation='relu'))\n",
        "model.add(Dense(16, activation='relu'))\n",
        "model.add(Dense(1, dtype='float32'))\n",
        "model.compile(optimizer=Adam(learning_rate=0.001), loss='mean_squared_error')\n",
        "\n",
        "# Train the model\n",
        "model.fit(X_train, y_train, epochs=100, batch_size=64, validation_data=(X_test, y_test), verbose=1)\n",
        "\n",
        "# Predict on test data\n",
        "y_pred = model.predict(X_test)\n",
        "\n",
        "# Calculate RMSE\n",
        "rmse = np.sqrt(mean_squared_error(y_test, y_pred))\n",
        "print(f\"Root Mean Squared Error on Test Data: {rmse}\")\n"
      ],
      "metadata": {
        "colab": {
          "base_uri": "https://localhost:8080/"
        },
        "id": "DEGLojgmN9Ck",
        "outputId": "312a93f6-4f5f-41ef-a0e9-c9e2d6736c4d"
      },
      "execution_count": null,
      "outputs": [
        {
          "output_type": "stream",
          "name": "stdout",
          "text": [
            "TensorFlow version: 2.17.0\n",
            "Num GPUs Available:  1\n",
            "Mixed precision policy: <DTypePolicy \"mixed_float16\">\n",
            "Epoch 1/100\n",
            "\u001b[1m13355/13355\u001b[0m \u001b[32m━━━━━━━━━━━━━━━━━━━━\u001b[0m\u001b[37m\u001b[0m \u001b[1m30s\u001b[0m 2ms/step - loss: 4549.1904 - val_loss: 19.9146\n",
            "Epoch 2/100\n",
            "\u001b[1m13355/13355\u001b[0m \u001b[32m━━━━━━━━━━━━━━━━━━━━\u001b[0m\u001b[37m\u001b[0m \u001b[1m39s\u001b[0m 2ms/step - loss: 14.1419 - val_loss: 24.0933\n",
            "Epoch 3/100\n",
            "\u001b[1m13355/13355\u001b[0m \u001b[32m━━━━━━━━━━━━━━━━━━━━\u001b[0m\u001b[37m\u001b[0m \u001b[1m41s\u001b[0m 2ms/step - loss: 12.2271 - val_loss: 20.5831\n",
            "Epoch 4/100\n",
            "\u001b[1m13355/13355\u001b[0m \u001b[32m━━━━━━━━━━━━━━━━━━━━\u001b[0m\u001b[37m\u001b[0m \u001b[1m29s\u001b[0m 2ms/step - loss: 11.3907 - val_loss: 22.3464\n",
            "Epoch 5/100\n",
            "\u001b[1m13355/13355\u001b[0m \u001b[32m━━━━━━━━━━━━━━━━━━━━\u001b[0m\u001b[37m\u001b[0m \u001b[1m40s\u001b[0m 2ms/step - loss: 10.6648 - val_loss: 29.6471\n",
            "Epoch 6/100\n",
            "\u001b[1m13355/13355\u001b[0m \u001b[32m━━━━━━━━━━━━━━━━━━━━\u001b[0m\u001b[37m\u001b[0m \u001b[1m28s\u001b[0m 2ms/step - loss: 10.0927 - val_loss: 20.8431\n",
            "Epoch 7/100\n",
            "\u001b[1m13355/13355\u001b[0m \u001b[32m━━━━━━━━━━━━━━━━━━━━\u001b[0m\u001b[37m\u001b[0m \u001b[1m26s\u001b[0m 2ms/step - loss: 9.7192 - val_loss: 20.1257\n",
            "Epoch 8/100\n",
            "\u001b[1m13355/13355\u001b[0m \u001b[32m━━━━━━━━━━━━━━━━━━━━\u001b[0m\u001b[37m\u001b[0m \u001b[1m28s\u001b[0m 2ms/step - loss: 9.4642 - val_loss: 25.0013\n",
            "Epoch 9/100\n",
            "\u001b[1m13355/13355\u001b[0m \u001b[32m━━━━━━━━━━━━━━━━━━━━\u001b[0m\u001b[37m\u001b[0m \u001b[1m33s\u001b[0m 2ms/step - loss: 9.1971 - val_loss: 24.0946\n",
            "Epoch 10/100\n",
            "\u001b[1m13355/13355\u001b[0m \u001b[32m━━━━━━━━━━━━━━━━━━━━\u001b[0m\u001b[37m\u001b[0m \u001b[1m27s\u001b[0m 2ms/step - loss: 8.9900 - val_loss: 22.7510\n",
            "Epoch 11/100\n",
            "\u001b[1m13355/13355\u001b[0m \u001b[32m━━━━━━━━━━━━━━━━━━━━\u001b[0m\u001b[37m\u001b[0m \u001b[1m41s\u001b[0m 2ms/step - loss: 8.7731 - val_loss: 21.5874\n",
            "Epoch 12/100\n",
            "\u001b[1m13355/13355\u001b[0m \u001b[32m━━━━━━━━━━━━━━━━━━━━\u001b[0m\u001b[37m\u001b[0m \u001b[1m42s\u001b[0m 2ms/step - loss: 8.6282 - val_loss: 52.9678\n",
            "Epoch 13/100\n",
            "\u001b[1m13355/13355\u001b[0m \u001b[32m━━━━━━━━━━━━━━━━━━━━\u001b[0m\u001b[37m\u001b[0m \u001b[1m41s\u001b[0m 2ms/step - loss: 8.5040 - val_loss: 31.2928\n",
            "Epoch 14/100\n",
            "\u001b[1m13355/13355\u001b[0m \u001b[32m━━━━━━━━━━━━━━━━━━━━\u001b[0m\u001b[37m\u001b[0m \u001b[1m42s\u001b[0m 2ms/step - loss: 8.3061 - val_loss: 31.3280\n",
            "Epoch 15/100\n",
            "\u001b[1m13355/13355\u001b[0m \u001b[32m━━━━━━━━━━━━━━━━━━━━\u001b[0m\u001b[37m\u001b[0m \u001b[1m28s\u001b[0m 2ms/step - loss: 8.3047 - val_loss: 27.4528\n",
            "Epoch 16/100\n",
            "\u001b[1m13355/13355\u001b[0m \u001b[32m━━━━━━━━━━━━━━━━━━━━\u001b[0m\u001b[37m\u001b[0m \u001b[1m41s\u001b[0m 2ms/step - loss: 8.0415 - val_loss: 36.1944\n",
            "Epoch 17/100\n",
            "\u001b[1m13355/13355\u001b[0m \u001b[32m━━━━━━━━━━━━━━━━━━━━\u001b[0m\u001b[37m\u001b[0m \u001b[1m28s\u001b[0m 2ms/step - loss: 8.0286 - val_loss: 24.2367\n",
            "Epoch 18/100\n",
            "\u001b[1m13355/13355\u001b[0m \u001b[32m━━━━━━━━━━━━━━━━━━━━\u001b[0m\u001b[37m\u001b[0m \u001b[1m28s\u001b[0m 2ms/step - loss: 7.8395 - val_loss: 30.8202\n",
            "Epoch 19/100\n",
            "\u001b[1m13355/13355\u001b[0m \u001b[32m━━━━━━━━━━━━━━━━━━━━\u001b[0m\u001b[37m\u001b[0m \u001b[1m41s\u001b[0m 2ms/step - loss: 7.8071 - val_loss: 26.7052\n",
            "Epoch 20/100\n",
            "\u001b[1m13355/13355\u001b[0m \u001b[32m━━━━━━━━━━━━━━━━━━━━\u001b[0m\u001b[37m\u001b[0m \u001b[1m39s\u001b[0m 2ms/step - loss: 7.6418 - val_loss: 36.7172\n",
            "Epoch 21/100\n",
            "\u001b[1m13355/13355\u001b[0m \u001b[32m━━━━━━━━━━━━━━━━━━━━\u001b[0m\u001b[37m\u001b[0m \u001b[1m41s\u001b[0m 2ms/step - loss: 7.5497 - val_loss: 32.9487\n",
            "Epoch 22/100\n",
            "\u001b[1m13355/13355\u001b[0m \u001b[32m━━━━━━━━━━━━━━━━━━━━\u001b[0m\u001b[37m\u001b[0m \u001b[1m42s\u001b[0m 2ms/step - loss: 7.4314 - val_loss: 24.3695\n",
            "Epoch 23/100\n",
            "\u001b[1m13355/13355\u001b[0m \u001b[32m━━━━━━━━━━━━━━━━━━━━\u001b[0m\u001b[37m\u001b[0m \u001b[1m28s\u001b[0m 2ms/step - loss: 7.3184 - val_loss: 28.8958\n",
            "Epoch 24/100\n",
            "\u001b[1m13355/13355\u001b[0m \u001b[32m━━━━━━━━━━━━━━━━━━━━\u001b[0m\u001b[37m\u001b[0m \u001b[1m28s\u001b[0m 2ms/step - loss: 7.1882 - val_loss: 28.6850\n",
            "Epoch 25/100\n",
            "\u001b[1m13355/13355\u001b[0m \u001b[32m━━━━━━━━━━━━━━━━━━━━\u001b[0m\u001b[37m\u001b[0m \u001b[1m40s\u001b[0m 2ms/step - loss: 7.1437 - val_loss: 27.5272\n",
            "Epoch 26/100\n",
            "\u001b[1m13355/13355\u001b[0m \u001b[32m━━━━━━━━━━━━━━━━━━━━\u001b[0m\u001b[37m\u001b[0m \u001b[1m41s\u001b[0m 2ms/step - loss: 6.9152 - val_loss: 35.7204\n",
            "Epoch 27/100\n",
            "\u001b[1m13355/13355\u001b[0m \u001b[32m━━━━━━━━━━━━━━━━━━━━\u001b[0m\u001b[37m\u001b[0m \u001b[1m28s\u001b[0m 2ms/step - loss: 6.8696 - val_loss: 24.9069\n",
            "Epoch 28/100\n",
            "\u001b[1m13355/13355\u001b[0m \u001b[32m━━━━━━━━━━━━━━━━━━━━\u001b[0m\u001b[37m\u001b[0m \u001b[1m39s\u001b[0m 2ms/step - loss: 6.7474 - val_loss: 28.1705\n",
            "Epoch 29/100\n",
            "\u001b[1m13355/13355\u001b[0m \u001b[32m━━━━━━━━━━━━━━━━━━━━\u001b[0m\u001b[37m\u001b[0m \u001b[1m41s\u001b[0m 2ms/step - loss: 6.6261 - val_loss: 32.1806\n",
            "Epoch 30/100\n",
            "\u001b[1m13355/13355\u001b[0m \u001b[32m━━━━━━━━━━━━━━━━━━━━\u001b[0m\u001b[37m\u001b[0m \u001b[1m27s\u001b[0m 2ms/step - loss: 6.5470 - val_loss: 29.7750\n",
            "Epoch 31/100\n",
            "\u001b[1m13355/13355\u001b[0m \u001b[32m━━━━━━━━━━━━━━━━━━━━\u001b[0m\u001b[37m\u001b[0m \u001b[1m27s\u001b[0m 2ms/step - loss: 6.4725 - val_loss: 30.4525\n",
            "Epoch 32/100\n",
            "\u001b[1m13355/13355\u001b[0m \u001b[32m━━━━━━━━━━━━━━━━━━━━\u001b[0m\u001b[37m\u001b[0m \u001b[1m43s\u001b[0m 2ms/step - loss: 6.3936 - val_loss: 27.2190\n",
            "Epoch 33/100\n",
            "\u001b[1m13355/13355\u001b[0m \u001b[32m━━━━━━━━━━━━━━━━━━━━\u001b[0m\u001b[37m\u001b[0m \u001b[1m28s\u001b[0m 2ms/step - loss: 6.3060 - val_loss: 24.9462\n",
            "Epoch 34/100\n",
            "\u001b[1m13355/13355\u001b[0m \u001b[32m━━━━━━━━━━━━━━━━━━━━\u001b[0m\u001b[37m\u001b[0m \u001b[1m27s\u001b[0m 2ms/step - loss: 6.2145 - val_loss: 28.0929\n",
            "Epoch 35/100\n",
            "\u001b[1m13355/13355\u001b[0m \u001b[32m━━━━━━━━━━━━━━━━━━━━\u001b[0m\u001b[37m\u001b[0m \u001b[1m42s\u001b[0m 2ms/step - loss: 6.1524 - val_loss: 33.0128\n",
            "Epoch 36/100\n",
            "\u001b[1m13355/13355\u001b[0m \u001b[32m━━━━━━━━━━━━━━━━━━━━\u001b[0m\u001b[37m\u001b[0m \u001b[1m42s\u001b[0m 2ms/step - loss: 6.1052 - val_loss: 26.6233\n",
            "Epoch 37/100\n",
            "\u001b[1m13355/13355\u001b[0m \u001b[32m━━━━━━━━━━━━━━━━━━━━\u001b[0m\u001b[37m\u001b[0m \u001b[1m27s\u001b[0m 2ms/step - loss: 6.0478 - val_loss: 44.3106\n",
            "Epoch 38/100\n",
            "\u001b[1m13355/13355\u001b[0m \u001b[32m━━━━━━━━━━━━━━━━━━━━\u001b[0m\u001b[37m\u001b[0m \u001b[1m40s\u001b[0m 2ms/step - loss: 5.9345 - val_loss: 30.4793\n",
            "Epoch 39/100\n",
            "\u001b[1m13355/13355\u001b[0m \u001b[32m━━━━━━━━━━━━━━━━━━━━\u001b[0m\u001b[37m\u001b[0m \u001b[1m41s\u001b[0m 2ms/step - loss: 5.8105 - val_loss: 25.6495\n",
            "Epoch 40/100\n",
            "\u001b[1m13355/13355\u001b[0m \u001b[32m━━━━━━━━━━━━━━━━━━━━\u001b[0m\u001b[37m\u001b[0m \u001b[1m43s\u001b[0m 2ms/step - loss: 5.7534 - val_loss: 40.0506\n",
            "Epoch 41/100\n",
            "\u001b[1m13355/13355\u001b[0m \u001b[32m━━━━━━━━━━━━━━━━━━━━\u001b[0m\u001b[37m\u001b[0m \u001b[1m40s\u001b[0m 2ms/step - loss: 5.7422 - val_loss: 32.7056\n",
            "Epoch 42/100\n",
            "\u001b[1m13355/13355\u001b[0m \u001b[32m━━━━━━━━━━━━━━━━━━━━\u001b[0m\u001b[37m\u001b[0m \u001b[1m27s\u001b[0m 2ms/step - loss: 5.6098 - val_loss: 34.0479\n",
            "Epoch 43/100\n",
            "\u001b[1m13355/13355\u001b[0m \u001b[32m━━━━━━━━━━━━━━━━━━━━\u001b[0m\u001b[37m\u001b[0m \u001b[1m27s\u001b[0m 2ms/step - loss: 5.5914 - val_loss: 29.8202\n",
            "Epoch 44/100\n",
            "\u001b[1m13355/13355\u001b[0m \u001b[32m━━━━━━━━━━━━━━━━━━━━\u001b[0m\u001b[37m\u001b[0m \u001b[1m26s\u001b[0m 2ms/step - loss: 5.5380 - val_loss: 24.6067\n",
            "Epoch 45/100\n",
            "\u001b[1m13355/13355\u001b[0m \u001b[32m━━━━━━━━━━━━━━━━━━━━\u001b[0m\u001b[37m\u001b[0m \u001b[1m29s\u001b[0m 2ms/step - loss: 5.4561 - val_loss: 39.8249\n",
            "Epoch 46/100\n",
            "\u001b[1m13355/13355\u001b[0m \u001b[32m━━━━━━━━━━━━━━━━━━━━\u001b[0m\u001b[37m\u001b[0m \u001b[1m40s\u001b[0m 2ms/step - loss: 5.4469 - val_loss: 33.2280\n",
            "Epoch 47/100\n",
            "\u001b[1m13355/13355\u001b[0m \u001b[32m━━━━━━━━━━━━━━━━━━━━\u001b[0m\u001b[37m\u001b[0m \u001b[1m41s\u001b[0m 2ms/step - loss: 5.4056 - val_loss: 28.1055\n",
            "Epoch 48/100\n",
            "\u001b[1m13355/13355\u001b[0m \u001b[32m━━━━━━━━━━━━━━━━━━━━\u001b[0m\u001b[37m\u001b[0m \u001b[1m41s\u001b[0m 2ms/step - loss: 5.3558 - val_loss: 30.5054\n",
            "Epoch 49/100\n",
            "\u001b[1m13355/13355\u001b[0m \u001b[32m━━━━━━━━━━━━━━━━━━━━\u001b[0m\u001b[37m\u001b[0m \u001b[1m27s\u001b[0m 2ms/step - loss: 5.3323 - val_loss: 28.4713\n",
            "Epoch 50/100\n",
            "\u001b[1m13355/13355\u001b[0m \u001b[32m━━━━━━━━━━━━━━━━━━━━\u001b[0m\u001b[37m\u001b[0m \u001b[1m41s\u001b[0m 2ms/step - loss: 5.3071 - val_loss: 24.6769\n",
            "Epoch 51/100\n",
            "\u001b[1m13355/13355\u001b[0m \u001b[32m━━━━━━━━━━━━━━━━━━━━\u001b[0m\u001b[37m\u001b[0m \u001b[1m41s\u001b[0m 2ms/step - loss: 5.2930 - val_loss: 26.5904\n",
            "Epoch 52/100\n",
            "\u001b[1m13355/13355\u001b[0m \u001b[32m━━━━━━━━━━━━━━━━━━━━\u001b[0m\u001b[37m\u001b[0m \u001b[1m41s\u001b[0m 2ms/step - loss: 5.2079 - val_loss: 27.4301\n",
            "Epoch 53/100\n",
            "\u001b[1m13355/13355\u001b[0m \u001b[32m━━━━━━━━━━━━━━━━━━━━\u001b[0m\u001b[37m\u001b[0m \u001b[1m42s\u001b[0m 2ms/step - loss: 5.1930 - val_loss: 30.5620\n",
            "Epoch 54/100\n",
            "\u001b[1m13355/13355\u001b[0m \u001b[32m━━━━━━━━━━━━━━━━━━━━\u001b[0m\u001b[37m\u001b[0m \u001b[1m27s\u001b[0m 2ms/step - loss: 5.1629 - val_loss: 37.5290\n",
            "Epoch 55/100\n",
            "\u001b[1m13355/13355\u001b[0m \u001b[32m━━━━━━━━━━━━━━━━━━━━\u001b[0m\u001b[37m\u001b[0m \u001b[1m27s\u001b[0m 2ms/step - loss: 5.1436 - val_loss: 23.7954\n",
            "Epoch 56/100\n",
            "\u001b[1m13355/13355\u001b[0m \u001b[32m━━━━━━━━━━━━━━━━━━━━\u001b[0m\u001b[37m\u001b[0m \u001b[1m27s\u001b[0m 2ms/step - loss: 5.1131 - val_loss: 34.2483\n",
            "Epoch 57/100\n",
            "\u001b[1m13355/13355\u001b[0m \u001b[32m━━━━━━━━━━━━━━━━━━━━\u001b[0m\u001b[37m\u001b[0m \u001b[1m41s\u001b[0m 2ms/step - loss: 5.0530 - val_loss: 25.0762\n",
            "Epoch 58/100\n",
            "\u001b[1m13355/13355\u001b[0m \u001b[32m━━━━━━━━━━━━━━━━━━━━\u001b[0m\u001b[37m\u001b[0m \u001b[1m32s\u001b[0m 2ms/step - loss: 5.0333 - val_loss: 40.4339\n",
            "Epoch 59/100\n",
            "\u001b[1m13355/13355\u001b[0m \u001b[32m━━━━━━━━━━━━━━━━━━━━\u001b[0m\u001b[37m\u001b[0m \u001b[1m29s\u001b[0m 2ms/step - loss: 5.0137 - val_loss: 30.9477\n",
            "Epoch 60/100\n",
            "\u001b[1m13355/13355\u001b[0m \u001b[32m━━━━━━━━━━━━━━━━━━━━\u001b[0m\u001b[37m\u001b[0m \u001b[1m39s\u001b[0m 2ms/step - loss: 4.9896 - val_loss: 24.8988\n",
            "Epoch 61/100\n",
            "\u001b[1m13355/13355\u001b[0m \u001b[32m━━━━━━━━━━━━━━━━━━━━\u001b[0m\u001b[37m\u001b[0m \u001b[1m28s\u001b[0m 2ms/step - loss: 4.9825 - val_loss: 26.8040\n",
            "Epoch 62/100\n",
            "\u001b[1m13355/13355\u001b[0m \u001b[32m━━━━━━━━━━━━━━━━━━━━\u001b[0m\u001b[37m\u001b[0m \u001b[1m27s\u001b[0m 2ms/step - loss: 4.9207 - val_loss: 33.6980\n",
            "Epoch 63/100\n",
            "\u001b[1m13355/13355\u001b[0m \u001b[32m━━━━━━━━━━━━━━━━━━━━\u001b[0m\u001b[37m\u001b[0m \u001b[1m42s\u001b[0m 2ms/step - loss: 4.9294 - val_loss: 33.1105\n",
            "Epoch 64/100\n",
            "\u001b[1m13355/13355\u001b[0m \u001b[32m━━━━━━━━━━━━━━━━━━━━\u001b[0m\u001b[37m\u001b[0m \u001b[1m27s\u001b[0m 2ms/step - loss: 4.8728 - val_loss: 23.8643\n",
            "Epoch 65/100\n",
            "\u001b[1m13355/13355\u001b[0m \u001b[32m━━━━━━━━━━━━━━━━━━━━\u001b[0m\u001b[37m\u001b[0m \u001b[1m28s\u001b[0m 2ms/step - loss: 4.8778 - val_loss: 29.0309\n",
            "Epoch 66/100\n",
            "\u001b[1m13355/13355\u001b[0m \u001b[32m━━━━━━━━━━━━━━━━━━━━\u001b[0m\u001b[37m\u001b[0m \u001b[1m27s\u001b[0m 2ms/step - loss: 4.8578 - val_loss: 28.9195\n",
            "Epoch 67/100\n",
            "\u001b[1m13355/13355\u001b[0m \u001b[32m━━━━━━━━━━━━━━━━━━━━\u001b[0m\u001b[37m\u001b[0m \u001b[1m27s\u001b[0m 2ms/step - loss: 4.8096 - val_loss: 33.3916\n",
            "Epoch 68/100\n",
            "\u001b[1m13355/13355\u001b[0m \u001b[32m━━━━━━━━━━━━━━━━━━━━\u001b[0m\u001b[37m\u001b[0m \u001b[1m27s\u001b[0m 2ms/step - loss: 4.8033 - val_loss: 26.4020\n",
            "Epoch 69/100\n",
            "\u001b[1m13355/13355\u001b[0m \u001b[32m━━━━━━━━━━━━━━━━━━━━\u001b[0m\u001b[37m\u001b[0m \u001b[1m41s\u001b[0m 2ms/step - loss: 4.8034 - val_loss: 30.5361\n",
            "Epoch 70/100\n",
            "\u001b[1m13355/13355\u001b[0m \u001b[32m━━━━━━━━━━━━━━━━━━━━\u001b[0m\u001b[37m\u001b[0m \u001b[1m27s\u001b[0m 2ms/step - loss: 4.7976 - val_loss: 41.5171\n",
            "Epoch 71/100\n",
            "\u001b[1m13355/13355\u001b[0m \u001b[32m━━━━━━━━━━━━━━━━━━━━\u001b[0m\u001b[37m\u001b[0m \u001b[1m41s\u001b[0m 2ms/step - loss: 4.7668 - val_loss: 30.0598\n",
            "Epoch 72/100\n",
            "\u001b[1m13355/13355\u001b[0m \u001b[32m━━━━━━━━━━━━━━━━━━━━\u001b[0m\u001b[37m\u001b[0m \u001b[1m41s\u001b[0m 2ms/step - loss: 4.7473 - val_loss: 27.9984\n",
            "Epoch 73/100\n",
            "\u001b[1m13355/13355\u001b[0m \u001b[32m━━━━━━━━━━━━━━━━━━━━\u001b[0m\u001b[37m\u001b[0m \u001b[1m28s\u001b[0m 2ms/step - loss: 4.7230 - val_loss: 26.9941\n",
            "Epoch 74/100\n",
            "\u001b[1m13355/13355\u001b[0m \u001b[32m━━━━━━━━━━━━━━━━━━━━\u001b[0m\u001b[37m\u001b[0m \u001b[1m40s\u001b[0m 2ms/step - loss: 4.6893 - val_loss: 28.5659\n",
            "Epoch 75/100\n",
            "\u001b[1m13355/13355\u001b[0m \u001b[32m━━━━━━━━━━━━━━━━━━━━\u001b[0m\u001b[37m\u001b[0m \u001b[1m41s\u001b[0m 2ms/step - loss: 4.6721 - val_loss: 28.4344\n",
            "Epoch 76/100\n",
            "\u001b[1m13355/13355\u001b[0m \u001b[32m━━━━━━━━━━━━━━━━━━━━\u001b[0m\u001b[37m\u001b[0m \u001b[1m42s\u001b[0m 2ms/step - loss: 4.6735 - val_loss: 30.1437\n",
            "Epoch 77/100\n",
            "\u001b[1m13355/13355\u001b[0m \u001b[32m━━━━━━━━━━━━━━━━━━━━\u001b[0m\u001b[37m\u001b[0m \u001b[1m28s\u001b[0m 2ms/step - loss: 4.6270 - val_loss: 30.4785\n",
            "Epoch 78/100\n",
            "\u001b[1m13355/13355\u001b[0m \u001b[32m━━━━━━━━━━━━━━━━━━━━\u001b[0m\u001b[37m\u001b[0m \u001b[1m30s\u001b[0m 2ms/step - loss: 4.6708 - val_loss: 32.4472\n",
            "Epoch 79/100\n",
            "\u001b[1m13355/13355\u001b[0m \u001b[32m━━━━━━━━━━━━━━━━━━━━\u001b[0m\u001b[37m\u001b[0m \u001b[1m29s\u001b[0m 2ms/step - loss: 4.6351 - val_loss: 30.3765\n",
            "Epoch 80/100\n",
            "\u001b[1m13355/13355\u001b[0m \u001b[32m━━━━━━━━━━━━━━━━━━━━\u001b[0m\u001b[37m\u001b[0m \u001b[1m40s\u001b[0m 2ms/step - loss: 4.6165 - val_loss: 27.3387\n",
            "Epoch 81/100\n",
            "\u001b[1m13355/13355\u001b[0m \u001b[32m━━━━━━━━━━━━━━━━━━━━\u001b[0m\u001b[37m\u001b[0m \u001b[1m27s\u001b[0m 2ms/step - loss: 4.6450 - val_loss: 32.2798\n",
            "Epoch 82/100\n",
            "\u001b[1m13355/13355\u001b[0m \u001b[32m━━━━━━━━━━━━━━━━━━━━\u001b[0m\u001b[37m\u001b[0m \u001b[1m42s\u001b[0m 2ms/step - loss: 4.5918 - val_loss: 28.1458\n",
            "Epoch 83/100\n",
            "\u001b[1m13355/13355\u001b[0m \u001b[32m━━━━━━━━━━━━━━━━━━━━\u001b[0m\u001b[37m\u001b[0m \u001b[1m28s\u001b[0m 2ms/step - loss: 4.6131 - val_loss: 32.7257\n",
            "Epoch 84/100\n",
            "\u001b[1m13355/13355\u001b[0m \u001b[32m━━━━━━━━━━━━━━━━━━━━\u001b[0m\u001b[37m\u001b[0m \u001b[1m28s\u001b[0m 2ms/step - loss: 4.5738 - val_loss: 32.9676\n",
            "Epoch 85/100\n",
            "\u001b[1m13355/13355\u001b[0m \u001b[32m━━━━━━━━━━━━━━━━━━━━\u001b[0m\u001b[37m\u001b[0m \u001b[1m40s\u001b[0m 2ms/step - loss: 4.5640 - val_loss: 29.0844\n",
            "Epoch 86/100\n",
            "\u001b[1m13355/13355\u001b[0m \u001b[32m━━━━━━━━━━━━━━━━━━━━\u001b[0m\u001b[37m\u001b[0m \u001b[1m28s\u001b[0m 2ms/step - loss: 4.5626 - val_loss: 33.1725\n",
            "Epoch 87/100\n",
            "\u001b[1m13355/13355\u001b[0m \u001b[32m━━━━━━━━━━━━━━━━━━━━\u001b[0m\u001b[37m\u001b[0m \u001b[1m27s\u001b[0m 2ms/step - loss: 4.5370 - val_loss: 31.7994\n",
            "Epoch 88/100\n",
            "\u001b[1m13355/13355\u001b[0m \u001b[32m━━━━━━━━━━━━━━━━━━━━\u001b[0m\u001b[37m\u001b[0m \u001b[1m42s\u001b[0m 2ms/step - loss: 4.5366 - val_loss: 34.3381\n",
            "Epoch 89/100\n",
            "\u001b[1m13355/13355\u001b[0m \u001b[32m━━━━━━━━━━━━━━━━━━━━\u001b[0m\u001b[37m\u001b[0m \u001b[1m41s\u001b[0m 2ms/step - loss: 4.5222 - val_loss: 31.3863\n",
            "Epoch 90/100\n",
            "\u001b[1m13355/13355\u001b[0m \u001b[32m━━━━━━━━━━━━━━━━━━━━\u001b[0m\u001b[37m\u001b[0m \u001b[1m27s\u001b[0m 2ms/step - loss: 4.5227 - val_loss: 30.4418\n",
            "Epoch 91/100\n",
            "\u001b[1m13355/13355\u001b[0m \u001b[32m━━━━━━━━━━━━━━━━━━━━\u001b[0m\u001b[37m\u001b[0m \u001b[1m42s\u001b[0m 2ms/step - loss: 4.4577 - val_loss: 31.0887\n",
            "Epoch 92/100\n",
            "\u001b[1m13355/13355\u001b[0m \u001b[32m━━━━━━━━━━━━━━━━━━━━\u001b[0m\u001b[37m\u001b[0m \u001b[1m42s\u001b[0m 2ms/step - loss: 4.4601 - val_loss: 29.4477\n",
            "Epoch 93/100\n",
            "\u001b[1m13355/13355\u001b[0m \u001b[32m━━━━━━━━━━━━━━━━━━━━\u001b[0m\u001b[37m\u001b[0m \u001b[1m27s\u001b[0m 2ms/step - loss: 4.4413 - val_loss: 30.8042\n",
            "Epoch 94/100\n",
            "\u001b[1m13355/13355\u001b[0m \u001b[32m━━━━━━━━━━━━━━━━━━━━\u001b[0m\u001b[37m\u001b[0m \u001b[1m28s\u001b[0m 2ms/step - loss: 4.4178 - val_loss: 31.2508\n",
            "Epoch 95/100\n",
            "\u001b[1m13355/13355\u001b[0m \u001b[32m━━━━━━━━━━━━━━━━━━━━\u001b[0m\u001b[37m\u001b[0m \u001b[1m28s\u001b[0m 2ms/step - loss: 4.4740 - val_loss: 31.2238\n",
            "Epoch 96/100\n",
            "\u001b[1m13355/13355\u001b[0m \u001b[32m━━━━━━━━━━━━━━━━━━━━\u001b[0m\u001b[37m\u001b[0m \u001b[1m41s\u001b[0m 2ms/step - loss: 4.4183 - val_loss: 29.9406\n",
            "Epoch 97/100\n",
            "\u001b[1m13355/13355\u001b[0m \u001b[32m━━━━━━━━━━━━━━━━━━━━\u001b[0m\u001b[37m\u001b[0m \u001b[1m28s\u001b[0m 2ms/step - loss: 4.4204 - val_loss: 28.3322\n",
            "Epoch 98/100\n",
            "\u001b[1m13355/13355\u001b[0m \u001b[32m━━━━━━━━━━━━━━━━━━━━\u001b[0m\u001b[37m\u001b[0m \u001b[1m27s\u001b[0m 2ms/step - loss: 4.3925 - val_loss: 34.4218\n",
            "Epoch 99/100\n",
            "\u001b[1m13355/13355\u001b[0m \u001b[32m━━━━━━━━━━━━━━━━━━━━\u001b[0m\u001b[37m\u001b[0m \u001b[1m42s\u001b[0m 2ms/step - loss: 4.3937 - val_loss: 30.3487\n",
            "Epoch 100/100\n",
            "\u001b[1m13355/13355\u001b[0m \u001b[32m━━━━━━━━━━━━━━━━━━━━\u001b[0m\u001b[37m\u001b[0m \u001b[1m28s\u001b[0m 2ms/step - loss: 4.4020 - val_loss: 35.3390\n",
            "\u001b[1m6570/6570\u001b[0m \u001b[32m━━━━━━━━━━━━━━━━━━━━\u001b[0m\u001b[37m\u001b[0m \u001b[1m9s\u001b[0m 1ms/step\n",
            "Root Mean Squared Error on Test Data: 5.944657067838852\n"
          ]
        }
      ]
    },
    {
      "cell_type": "code",
      "source": [
        "# Save predictions and RMSE using pickle\n",
        "with open(path+'pred_fnn_'+target+'.pkl', 'wb') as f:\n",
        "    pickle.dump(y_pred, f)\n",
        "\n",
        "with open(path+'rmse_fnn_'+target+'.pkl', 'wb') as f:\n",
        "    pickle.dump(rmse, f)"
      ],
      "metadata": {
        "id": "fwa-VBidXZJM"
      },
      "execution_count": null,
      "outputs": []
    }
  ]
}