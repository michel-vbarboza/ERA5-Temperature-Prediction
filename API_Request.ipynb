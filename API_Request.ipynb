{
  "nbformat": 4,
  "nbformat_minor": 0,
  "metadata": {
    "colab": {
      "provenance": [],
      "authorship_tag": "ABX9TyO/2UK3P/GfkiY12tsVZfI5",
      "include_colab_link": true
    },
    "kernelspec": {
      "name": "python3",
      "display_name": "Python 3"
    },
    "language_info": {
      "name": "python"
    }
  },
  "cells": [
    {
      "cell_type": "markdown",
      "metadata": {
        "id": "view-in-github",
        "colab_type": "text"
      },
      "source": [
        "<a href=\"https://colab.research.google.com/github/michel-vbarboza/ERA5-Temperature-Prediction/blob/main/API_Request.ipynb\" target=\"_parent\"><img src=\"https://colab.research.google.com/assets/colab-badge.svg\" alt=\"Open In Colab\"/></a>"
      ]
    },
    {
      "cell_type": "code",
      "source": [
        "# Mount Google Drive\n",
        "from google.colab import drive\n",
        "drive.mount('/content/drive')"
      ],
      "metadata": {
        "id": "NvNWfTKdL5Wf"
      },
      "execution_count": null,
      "outputs": []
    },
    {
      "cell_type": "code",
      "source": [
        "# Path for files on Google Drive\n",
        "import os\n",
        "drive_dir = '/content/drive/MyDrive/MMEAD Dissertacao/Dados/'"
      ],
      "metadata": {
        "id": "RmujtU8VL9A6"
      },
      "execution_count": null,
      "outputs": []
    },
    {
      "cell_type": "code",
      "execution_count": null,
      "metadata": {
        "id": "JWiL8YBC-Y-X"
      },
      "outputs": [],
      "source": [
        "import cdsapi\n",
        "\n",
        "c = cdsapi.Client()\n",
        "\n",
        "for year in range(2020, 2024):\n",
        "    for month in range(3, 13):\n",
        "        c.retrieve(\n",
        "        'reanalysis-era5-single-levels',\n",
        "        {\n",
        "        'product_type': 'reanalysis',\n",
        "        'format': 'netcdf',\n",
        "        'variable': [\n",
        "            '10m_u_component_of_wind', '10m_v_component_of_wind', '2m_dewpoint_temperature',\n",
        "            '2m_temperature', 'evaporation', 'high_cloud_cover',\n",
        "            'high_vegetation_cover', 'lake_cover', 'low_cloud_cover',\n",
        "            'low_vegetation_cover', 'precipitation_type', 'runoff',\n",
        "            'soil_type', 'surface_net_solar_radiation', 'surface_net_thermal_radiation',\n",
        "            'surface_pressure', 'total_precipitation'\n",
        "        ],\n",
        "        'year': str(year),\n",
        "        'month': str(month),\n",
        "        'day': [\n",
        "            '01', '02', '03',\n",
        "            '04', '05', '06',\n",
        "            '07', '08', '09',\n",
        "            '10', '11', '12',\n",
        "            '13', '14', '15',\n",
        "            '16', '17', '18',\n",
        "            '19', '20', '21',\n",
        "            '22', '23', '24',\n",
        "            '25', '26', '27',\n",
        "            '28', '29', '30',\n",
        "            '31'\n",
        "        ],\n",
        "        'time': [\n",
        "            '00:00', '01:00', '02:00',\n",
        "            '03:00', '04:00', '05:00',\n",
        "            '06:00', '07:00', '08:00',\n",
        "            '09:00', '10:00', '11:00',\n",
        "            '12:00', '13:00', '14:00',\n",
        "            '15:00', '16:00', '17:00',\n",
        "            '18:00', '19:00', '20:00',\n",
        "            '21:00', '22:00', '23:00'\n",
        "        ],\n",
        "        'area': [\n",
        "            42.16, -9.51, 36.97, -6.18 # Portugal Continental\n",
        "        ]\n",
        "    },\n",
        "    os.path.join(drive_dir, 'download-'+str(year)+'-'+str(month)+'.nc')\n",
        "        )"
      ]
    }
  ]
}